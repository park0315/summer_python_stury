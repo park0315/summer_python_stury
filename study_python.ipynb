{
  "nbformat": 4,
  "nbformat_minor": 0,
  "metadata": {
    "colab": {
      "name": "Untitled0.ipynb",
      "provenance": [],
      "authorship_tag": "ABX9TyN1dwfBvq/2kJi7aeZuDwyb",
      "include_colab_link": true
    },
    "kernelspec": {
      "name": "python3",
      "display_name": "Python 3"
    },
    "language_info": {
      "name": "python"
    }
  },
  "cells": [
    {
      "cell_type": "markdown",
      "metadata": {
        "id": "view-in-github",
        "colab_type": "text"
      },
      "source": [
        "<a href=\"https://colab.research.google.com/github/park0315/summer_python_stury/blob/main/study_python.ipynb\" target=\"_parent\"><img src=\"https://colab.research.google.com/assets/colab-badge.svg\" alt=\"Open In Colab\"/></a>"
      ]
    },
    {
      "cell_type": "code",
      "metadata": {
        "colab": {
          "base_uri": "https://localhost:8080/"
        },
        "id": "xeCNkzDW0sU6",
        "outputId": "17397373-57ea-4288-9048-2f15d82299db"
      },
      "source": [
        "print('this is cell') "
      ],
      "execution_count": 1,
      "outputs": [
        {
          "output_type": "stream",
          "text": [
            "this is cell\n"
          ],
          "name": "stdout"
        }
      ]
    },
    {
      "cell_type": "code",
      "metadata": {
        "colab": {
          "base_uri": "https://localhost:8080/"
        },
        "id": "UX-EfFWY02QN",
        "outputId": "df551865-f7f3-4270-a0b9-481f2404487d"
      },
      "source": [
        "1+1"
      ],
      "execution_count": 3,
      "outputs": [
        {
          "output_type": "execute_result",
          "data": {
            "text/plain": [
              "2"
            ]
          },
          "metadata": {
            "tags": []
          },
          "execution_count": 3
        }
      ]
    },
    {
      "cell_type": "markdown",
      "metadata": {
        "id": "lIlhAYZW1fop"
      },
      "source": [
        "pycham"
      ]
    },
    {
      "cell_type": "code",
      "metadata": {
        "id": "Q5Daq1cV2Jwz"
      },
      "source": [
        "print('''Ctrl + enter = 해당 셀을 실행하고 커서를 해당 셀에 두는 경우''')"
      ],
      "execution_count": null,
      "outputs": []
    },
    {
      "cell_type": "code",
      "metadata": {
        "id": "DGsoHeAN2MBY"
      },
      "source": [
        "print('''Ctrl + Enter = 해당 셀을 실행하고 커서를 다음 셀로 넘기는 경우''')"
      ],
      "execution_count": null,
      "outputs": []
    },
    {
      "cell_type": "code",
      "metadata": {
        "id": "ybqHfxhD2ica"
      },
      "source": [
        "print('''Alt + Enter = 해당 셀을 실행하고 셀을 삽입한 후 커서를 삽입한 셀로 넘기는 경우''')"
      ],
      "execution_count": null,
      "outputs": []
    },
    {
      "cell_type": "code",
      "metadata": {
        "id": "m6S2HIxB221j"
      },
      "source": [
        "print(''''\n",
        "(비활성화 상태 (ESC) 필수)\n",
        "Ctrl + M A = 코드 셀 위에 삽입\n",
        "Ctrl + M B = 코드 셀 아래 삽입\n",
        "Ctrl + M D = 셀 지우기\n",
        "Ctrl + M Y = 코드 셀로 변경\n",
        "Ctrl + M M = 마크 다운 셀로 변경\n",
        "Ctrl + M Z = 실행 취소\n",
        "''')"
      ],
      "execution_count": null,
      "outputs": []
    },
    {
      "cell_type": "markdown",
      "metadata": {
        "id": "C1VE3XWH3RTy"
      },
      "source": [
        "ㅁㅁㅁㅁㅁㅁㅁㅁㅁㅁㅁㅁㅁㅁㅁㅁㅁㅁㅁㅁㅁㅁㅁㅁㅁㅁㅁㅁㅁㅁㅁㅁㅁㅁㅁㅁㅁㅁㅁㅁㅁㅁㅁㅁㅁㅁㅁㅁㅁㅁㅁㅁㅁㅁㅁㅁㅁㅁㅁㅁㅁㅁㅁㅁㅁㅁㅁㅁㅁㅁㅁㅁㅁㅁㅁㅁㅁㅁㅁㅁㅁㅁㅁㅁㅁㅁㅁㅁㅁㅁㅁㅁㅁ"
      ]
    },
    {
      "cell_type": "markdown",
      "metadata": {
        "id": "PczdOPD03q_f"
      },
      "source": [
        "# 대제목\n",
        "## 중제목\n",
        "### 소제목\n",
        "**진하게**\n",
        "\n",
        "_안녕_"
      ]
    },
    {
      "cell_type": "code",
      "metadata": {
        "id": "ZMsSXaA84E6H"
      },
      "source": [
        ""
      ],
      "execution_count": null,
      "outputs": []
    }
  ]
}