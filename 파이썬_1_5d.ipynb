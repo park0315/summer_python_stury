{
  "nbformat": 4,
  "nbformat_minor": 0,
  "metadata": {
    "colab": {
      "name": "파이썬 1.5d.ipynb",
      "provenance": [],
      "authorship_tag": "ABX9TyPRjjrH5leBb5A95U9inFHw",
      "include_colab_link": true
    },
    "kernelspec": {
      "name": "python3",
      "display_name": "Python 3"
    },
    "language_info": {
      "name": "python"
    }
  },
  "cells": [
    {
      "cell_type": "markdown",
      "metadata": {
        "id": "view-in-github",
        "colab_type": "text"
      },
      "source": [
        "<a href=\"https://colab.research.google.com/github/park0315/summer_python_stury/blob/main/%ED%8C%8C%EC%9D%B4%EC%8D%AC_1_5d.ipynb\" target=\"_parent\"><img src=\"https://colab.research.google.com/assets/colab-badge.svg\" alt=\"Open In Colab\"/></a>"
      ]
    },
    {
      "cell_type": "markdown",
      "metadata": {
        "id": "Qy-iSbf1DVIZ"
      },
      "source": [
        "시쿼스, 집합형 자료 구조\n",
        "\n",
        "분류 시퀀스,    시퀀스, 세트, 앱\n",
        "\n",
        "타입 리스트,      튜플,   세트,  틱셔너리\n",
        "\n",
        "특징 순서가 있고 가변 순서가 있고, 불변 순서가 없고, 중복을 허용 하지 않음, 순서가 없고 Key/valuse 쌍으로 이루어짐\n",
        "\n",
        "예시 [1, 2, 3] (1, 2, 3) {1, 2, 3} (a:1,b:2,c:3)\n"
      ]
    },
    {
      "cell_type": "markdown",
      "metadata": {
        "id": "bWiuRO3gD1Do"
      },
      "source": [
        "#리스트(list)\n",
        "- 리스트는 데이터의 요소를 순차적으로 파악하는데 용이한 자료형 입니다.\n",
        "- 리스트는 다양한 메서드 혹은 함수를 지원하여 메"
      ]
    },
    {
      "cell_type": "markdown",
      "metadata": {
        "id": "wDGMn05eEJgr"
      },
      "source": [
        "생성\n",
        "\n",
        "[] 형태로 표현합니다\n",
        "\n",
        "빈 리스트를 생성합니다"
      ]
    },
    {
      "cell_type": "code",
      "metadata": {
        "colab": {
          "base_uri": "https://localhost:8080/"
        },
        "id": "_WhrRoIgEOVO",
        "outputId": "3494eb1e-8727-4a08-a31c-7419cbfb9afb"
      },
      "source": [
        "mylist = []\n",
        "mylist\n"
      ],
      "execution_count": null,
      "outputs": [
        {
          "output_type": "execute_result",
          "data": {
            "text/plain": [
              "[]"
            ]
          },
          "metadata": {
            "tags": []
          },
          "execution_count": 3
        }
      ]
    },
    {
      "cell_type": "code",
      "metadata": {
        "colab": {
          "base_uri": "https://localhost:8080/"
        },
        "id": "lETXeUOnES-S",
        "outputId": "88f18494-0a92-4c33-f86b-491a381f2d65"
      },
      "source": [
        "mylist = list()\n",
        "mylist"
      ],
      "execution_count": null,
      "outputs": [
        {
          "output_type": "execute_result",
          "data": {
            "text/plain": [
              "[]"
            ]
          },
          "metadata": {
            "tags": []
          },
          "execution_count": 4
        }
      ]
    },
    {
      "cell_type": "code",
      "metadata": {
        "colab": {
          "base_uri": "https://localhost:8080/"
        },
        "id": "7Um3qELwEXmB",
        "outputId": "cd3bec62-e0b0-405b-be52-0abe459bd68d"
      },
      "source": [
        "mylist = [1, 2, 3, 4, 5]\n",
        "mylist"
      ],
      "execution_count": null,
      "outputs": [
        {
          "output_type": "execute_result",
          "data": {
            "text/plain": [
              "[1, 2, 3, 4, 5]"
            ]
          },
          "metadata": {
            "tags": []
          },
          "execution_count": 6
        }
      ]
    },
    {
      "cell_type": "markdown",
      "metadata": {
        "id": "x0FZkegvEaVR"
      },
      "source": [
        "##list 규칙\n",
        "- 리스트는 다양한 type의 데이터를 집합으로 가집니다\n",
        "- list안에 list도 허용합니다\n",
        "- list는 순서(oreder)의 개념이 존재합니다."
      ]
    },
    {
      "cell_type": "code",
      "metadata": {
        "id": "Fo7kdYFiEm-d"
      },
      "source": [
        "a = []\n",
        " "
      ],
      "execution_count": null,
      "outputs": []
    },
    {
      "cell_type": "code",
      "metadata": {
        "colab": {
          "base_uri": "https://localhost:8080/"
        },
        "id": "Gk71CS8VEvW4",
        "outputId": "8110010a-ec89-468d-dae7-2e7305671df5"
      },
      "source": [
        "a = [1,2,3]\n",
        "a"
      ],
      "execution_count": null,
      "outputs": [
        {
          "output_type": "execute_result",
          "data": {
            "text/plain": [
              "[1, 2, 3]"
            ]
          },
          "metadata": {
            "tags": []
          },
          "execution_count": 9
        }
      ]
    },
    {
      "cell_type": "code",
      "metadata": {
        "colab": {
          "base_uri": "https://localhost:8080/"
        },
        "id": "UF4phPjzEw9d",
        "outputId": "bece1140-e8be-43b8-df1f-e10cd835f045"
      },
      "source": [
        "a = [1,'hello', 3, 3,14, True]\n",
        "a"
      ],
      "execution_count": null,
      "outputs": [
        {
          "output_type": "execute_result",
          "data": {
            "text/plain": [
              "[1, 'hello', 3, 3, 14, True]"
            ]
          },
          "metadata": {
            "tags": []
          },
          "execution_count": 10
        }
      ]
    },
    {
      "cell_type": "markdown",
      "metadata": {
        "id": "bBVHZmVgE1je"
      },
      "source": [
        "리스트 안에 리스트로 포함할 수 있습니다\n"
      ]
    },
    {
      "cell_type": "code",
      "metadata": {
        "colab": {
          "base_uri": "https://localhost:8080/"
        },
        "id": "ULKBrPi7FI6i",
        "outputId": "9bb869aa-99ed-4d04-d6cf-60a87f847998"
      },
      "source": [
        "a = [1, 'hello', 3, 3.14, [6, 7, '8']]\n",
        "a"
      ],
      "execution_count": null,
      "outputs": [
        {
          "output_type": "execute_result",
          "data": {
            "text/plain": [
              "[1, 'hello', 3, 3.14, [6, 7, '8']]"
            ]
          },
          "metadata": {
            "tags": []
          },
          "execution_count": 14
        }
      ]
    },
    {
      "cell_type": "markdown",
      "metadata": {
        "id": "oVQ8d7rUE9ED"
      },
      "source": [
        "관련함수\n",
        "- 점 연사자로 함수를 실행할 수 있습니다\n",
        "- 함수는 어떤 작업을 수행하는 코드를 모아 이름을 붙인 것입니다\n",
        "- 자세한 내용은 추후 함수 단원에서 배웁니다."
      ]
    },
    {
      "cell_type": "code",
      "metadata": {
        "colab": {
          "base_uri": "https://localhost:8080/"
        },
        "id": "GLx906SoFVnx",
        "outputId": "23524048-e489-46c1-b194-fb0d89a15fb1"
      },
      "source": [
        "mylist = []\n",
        "mylist"
      ],
      "execution_count": null,
      "outputs": [
        {
          "output_type": "execute_result",
          "data": {
            "text/plain": [
              "[]"
            ]
          },
          "metadata": {
            "tags": []
          },
          "execution_count": 17
        }
      ]
    },
    {
      "cell_type": "markdown",
      "metadata": {
        "id": "avF2QBnEFFe6"
      },
      "source": [
        "append()는 값을 맨 뒤에 추가합니다\n"
      ]
    },
    {
      "cell_type": "code",
      "metadata": {
        "colab": {
          "base_uri": "https://localhost:8080/"
        },
        "id": "9-WGMJ_TFQfy",
        "outputId": "125a561c-b09b-4239-bd40-c8dd8ceec54e"
      },
      "source": [
        "mylist.append(1)\n",
        "mylist"
      ],
      "execution_count": null,
      "outputs": [
        {
          "output_type": "execute_result",
          "data": {
            "text/plain": [
              "[1, 2, 3, 4, 5, 6, 6, 1]"
            ]
          },
          "metadata": {
            "tags": []
          },
          "execution_count": 26
        }
      ]
    },
    {
      "cell_type": "markdown",
      "metadata": {
        "id": "i4M8sMgSFaUV"
      },
      "source": [
        "중복된 값을 추가할 수 있으며, 순서가 유지됩니다"
      ]
    },
    {
      "cell_type": "code",
      "metadata": {
        "id": "hv0FOH9EFfG6"
      },
      "source": [
        "mylist.append(7)"
      ],
      "execution_count": null,
      "outputs": []
    },
    {
      "cell_type": "markdown",
      "metadata": {
        "id": "uQTYPaqsFiUg"
      },
      "source": [
        "sort() : 정렬\n",
        "- 요소를 순서대로 정렬합니다\n",
        "- sort()는 내부적으로 정렬합니다"
      ]
    },
    {
      "cell_type": "code",
      "metadata": {
        "id": "jD_hpuf1Fq7X"
      },
      "source": [
        "mylist = [1, 6, 3, 2, 6, 5, 4]\n",
        "mylist.sort()"
      ],
      "execution_count": null,
      "outputs": []
    },
    {
      "cell_type": "code",
      "metadata": {
        "colab": {
          "base_uri": "https://localhost:8080/"
        },
        "id": "m62MWVGiFj8K",
        "outputId": "635fb2af-131e-4736-f936-f51c25da27ca"
      },
      "source": [
        "mylist"
      ],
      "execution_count": null,
      "outputs": [
        {
          "output_type": "execute_result",
          "data": {
            "text/plain": [
              "[1, 2, 3, 4, 5, 6, 6]"
            ]
          },
          "metadata": {
            "tags": []
          },
          "execution_count": 29
        }
      ]
    },
    {
      "cell_type": "markdown",
      "metadata": {
        "id": "MrfcvURBF9Pn"
      },
      "source": [
        "열정렬(reverse order)도 가능합니다"
      ]
    },
    {
      "cell_type": "code",
      "metadata": {
        "id": "OhekId3HGM-B"
      },
      "source": [
        "mylist = [1,6,3,2,7,5,4]\n",
        "mylist.sort(reverse=True)"
      ],
      "execution_count": null,
      "outputs": []
    },
    {
      "cell_type": "code",
      "metadata": {
        "colab": {
          "base_uri": "https://localhost:8080/"
        },
        "id": "BmqWpNdsFTdW",
        "outputId": "b61b063a-addc-4e15-a408-ea81d3ccbbf4"
      },
      "source": [
        "mylist"
      ],
      "execution_count": null,
      "outputs": [
        {
          "output_type": "execute_result",
          "data": {
            "text/plain": [
              "[1, 2, 3, 4, 5, 6, 6]"
            ]
          },
          "metadata": {
            "tags": []
          },
          "execution_count": 31
        }
      ]
    },
    {
      "cell_type": "markdown",
      "metadata": {
        "id": "2OL0__v9GX4T"
      },
      "source": [
        "sorted(): 정렬\n",
        "-요소를 순서대로 정렬합니다\n",
        "- 내부적으로 정렬하지 않고 정렬된 복사본을 반환합니다\n",
        "- 즉 원본 데이터는 정렬되지 않습니다."
      ]
    },
    {
      "cell_type": "code",
      "metadata": {
        "id": "DfX8amGqGjvC"
      },
      "source": [
        "mylist = [1,6,3,2, 6,5,4]\n",
        "mylist.sort()"
      ],
      "execution_count": null,
      "outputs": []
    },
    {
      "cell_type": "code",
      "metadata": {
        "colab": {
          "base_uri": "https://localhost:8080/"
        },
        "id": "i5T96K8KGoop",
        "outputId": "275d2f27-c30a-44ae-ec65-34ad6e18621c"
      },
      "source": [
        "mylist"
      ],
      "execution_count": null,
      "outputs": [
        {
          "output_type": "execute_result",
          "data": {
            "text/plain": [
              "[1, 2, 3, 4, 5, 6, 6]"
            ]
          },
          "metadata": {
            "tags": []
          },
          "execution_count": 38
        }
      ]
    },
    {
      "cell_type": "markdown",
      "metadata": {
        "id": "TQuw6f8LGzsS"
      },
      "source": [
        "마찬가지로, reverse=True를 지정하여 역정렬을 할 수 있습니다."
      ]
    },
    {
      "cell_type": "markdown",
      "metadata": {
        "id": "A6-jOW-CG7gO"
      },
      "source": [
        "reverse() : 역정렬"
      ]
    },
    {
      "cell_type": "code",
      "metadata": {
        "colab": {
          "base_uri": "https://localhost:8080/"
        },
        "id": "nL52ynWtHAWk",
        "outputId": "339f98eb-f34c-46a7-fcb9-0bf75dc96ba6"
      },
      "source": [
        "mylist.reverse()\n",
        "mylist"
      ],
      "execution_count": null,
      "outputs": [
        {
          "output_type": "execute_result",
          "data": {
            "text/plain": [
              "[6, 6, 5, 4, 3, 2, 1]"
            ]
          },
          "metadata": {
            "tags": []
          },
          "execution_count": 39
        }
      ]
    },
    {
      "cell_type": "markdown",
      "metadata": {
        "id": "qyWbHTB0HDIK"
      },
      "source": [
        "len() : 전체 항목의 개수 세기"
      ]
    },
    {
      "cell_type": "code",
      "metadata": {
        "colab": {
          "base_uri": "https://localhost:8080/"
        },
        "id": "yrxaKPpiHPQ6",
        "outputId": "e367d0aa-5480-4472-dcb9-7efe37197208"
      },
      "source": [
        "mylist = [1,6,3,2,8,5,4]\n",
        "len(mylist)"
      ],
      "execution_count": null,
      "outputs": [
        {
          "output_type": "execute_result",
          "data": {
            "text/plain": [
              "7"
            ]
          },
          "metadata": {
            "tags": []
          },
          "execution_count": 41
        }
      ]
    },
    {
      "cell_type": "markdown",
      "metadata": {
        "id": "bbD8XeqKHUGd"
      },
      "source": [
        "insert() : 값 추가\n",
        "\n",
        "지정한 index에 값 추가"
      ]
    },
    {
      "cell_type": "code",
      "metadata": {
        "colab": {
          "base_uri": "https://localhost:8080/"
        },
        "id": "J03AC3nZHYe0",
        "outputId": "4f59dd7e-a86c-4694-92c3-2a60b4059825"
      },
      "source": [
        "mylist = [1, 6, 3, 2, 7, 5, 4]\n",
        "mylist.insert(6, 100)\n",
        "mylist"
      ],
      "execution_count": null,
      "outputs": [
        {
          "output_type": "execute_result",
          "data": {
            "text/plain": [
              "[1, 6, 3, 2, 7, 5, 100, 4]"
            ]
          },
          "metadata": {
            "tags": []
          },
          "execution_count": 47
        }
      ]
    },
    {
      "cell_type": "markdown",
      "metadata": {
        "id": "3M739LLXHwyF"
      },
      "source": [
        "remove() : 값 제거\n",
        "\n",
        "리스트에서 첫 번쨰 나오는 해당 값 "
      ]
    },
    {
      "cell_type": "code",
      "metadata": {
        "colab": {
          "base_uri": "https://localhost:8080/"
        },
        "id": "dTeBAmM6H5AL",
        "outputId": "17da3019-2bb4-44cc-d0c3-c1a9bf795879"
      },
      "source": [
        "mylist.remove(7)\n",
        "mylist"
      ],
      "execution_count": null,
      "outputs": [
        {
          "output_type": "execute_result",
          "data": {
            "text/plain": [
              "[1, 6, 3, 2, 5, 100, 4]"
            ]
          },
          "metadata": {
            "tags": []
          },
          "execution_count": 48
        }
      ]
    },
    {
      "cell_type": "markdown",
      "metadata": {
        "id": "DWrPC7HSH8w2"
      },
      "source": [
        "pop() : 요소 꺼내기\n",
        "\n",
        "X번쨰 요소를 돌려주고 해당 요소는 삭제"
      ]
    },
    {
      "cell_type": "code",
      "metadata": {
        "colab": {
          "base_uri": "https://localhost:8080/"
        },
        "id": "4lMclsKrICmh",
        "outputId": "3def6e3f-a2eb-4ea7-9de6-e6e19b4c6e9a"
      },
      "source": [
        "mylist.pop(1)\n",
        "mylist"
      ],
      "execution_count": null,
      "outputs": [
        {
          "output_type": "execute_result",
          "data": {
            "text/plain": [
              "[1, 3, 2, 5, 100, 4]"
            ]
          },
          "metadata": {
            "tags": []
          },
          "execution_count": 50
        }
      ]
    },
    {
      "cell_type": "markdown",
      "metadata": {
        "id": "_xwm7A8zIGW2"
      },
      "source": [
        "del : 요소 삭제"
      ]
    },
    {
      "cell_type": "code",
      "metadata": {
        "colab": {
          "base_uri": "https://localhost:8080/"
        },
        "id": "SEq_mKc7ILB1",
        "outputId": "d0de36ea-c7a0-4c45-f1fb-5762f9809de5"
      },
      "source": [
        "mylist = [100, 200, 300, 400, 500]\n",
        "\n",
        "del mylist[1]\n",
        "print(mylist)\n",
        "del mylist[3]\n",
        "print(mylist)"
      ],
      "execution_count": null,
      "outputs": [
        {
          "output_type": "stream",
          "text": [
            "[100, 300, 400, 500]\n",
            "[100, 300, 400]\n"
          ],
          "name": "stdout"
        }
      ]
    },
    {
      "cell_type": "markdown",
      "metadata": {
        "id": "U_BwB1oDITMg"
      },
      "source": [
        "count() : 갯수 세기"
      ]
    },
    {
      "cell_type": "code",
      "metadata": {
        "colab": {
          "base_uri": "https://localhost:8080/"
        },
        "id": "VzOPNkYFIa6Y",
        "outputId": "b7e1169f-e179-45d7-b4db-b5c3a1705efb"
      },
      "source": [
        "a = [1, 1, 1, 1, 1 ,2 ,2, 3]\n",
        "a.count(1)"
      ],
      "execution_count": null,
      "outputs": [
        {
          "output_type": "execute_result",
          "data": {
            "text/plain": [
              "5"
            ]
          },
          "metadata": {
            "tags": []
          },
          "execution_count": 57
        }
      ]
    },
    {
      "cell_type": "code",
      "metadata": {
        "colab": {
          "base_uri": "https://localhost:8080/"
        },
        "id": "9ih5e1R3IgkF",
        "outputId": "d1e11642-5ad2-47fc-da17-627d938e6853"
      },
      "source": [
        "a.count(2)"
      ],
      "execution_count": null,
      "outputs": [
        {
          "output_type": "execute_result",
          "data": {
            "text/plain": [
              "2"
            ]
          },
          "metadata": {
            "tags": []
          },
          "execution_count": 56
        }
      ]
    },
    {
      "cell_type": "code",
      "metadata": {
        "colab": {
          "base_uri": "https://localhost:8080/"
        },
        "id": "ipCfCijcIke_",
        "outputId": "76958e0e-ec46-4978-b135-de42c1cc2819"
      },
      "source": [
        "a.count(3)"
      ],
      "execution_count": null,
      "outputs": [
        {
          "output_type": "execute_result",
          "data": {
            "text/plain": [
              "1"
            ]
          },
          "metadata": {
            "tags": []
          },
          "execution_count": 58
        }
      ]
    },
    {
      "cell_type": "markdown",
      "metadata": {
        "id": "N9YJqkLLIzbs"
      },
      "source": [
        "extend() : 리스트 \n"
      ]
    },
    {
      "cell_type": "code",
      "metadata": {
        "id": "pXlnzGC4I5sl"
      },
      "source": [
        "a = [1,2, 3]\n"
      ],
      "execution_count": null,
      "outputs": []
    },
    {
      "cell_type": "code",
      "metadata": {
        "colab": {
          "base_uri": "https://localhost:8080/",
          "height": 169
        },
        "id": "NVJ7SRH5I7P-",
        "outputId": "bb8b4ae1-b42e-40af-ae6d-f36eae927f73"
      },
      "source": [
        "a.extend(4, 5)"
      ],
      "execution_count": null,
      "outputs": [
        {
          "output_type": "error",
          "ename": "TypeError",
          "evalue": "ignored",
          "traceback": [
            "\u001b[0;31m---------------------------------------------------------------------------\u001b[0m",
            "\u001b[0;31mTypeError\u001b[0m                                 Traceback (most recent call last)",
            "\u001b[0;32m<ipython-input-92-687ef869b93d>\u001b[0m in \u001b[0;36m<module>\u001b[0;34m()\u001b[0m\n\u001b[0;32m----> 1\u001b[0;31m \u001b[0ma\u001b[0m\u001b[0;34m.\u001b[0m\u001b[0mextend\u001b[0m\u001b[0;34m(\u001b[0m\u001b[0;36m2\u001b[0m\u001b[0;34m,\u001b[0m \u001b[0;36m5\u001b[0m\u001b[0;34m)\u001b[0m\u001b[0;34m\u001b[0m\u001b[0;34m\u001b[0m\u001b[0m\n\u001b[0m",
            "\u001b[0;31mTypeError\u001b[0m: extend() takes exactly one argument (2 given)"
          ]
        }
      ]
    },
    {
      "cell_type": "markdown",
      "metadata": {
        "id": "fQmYWigsJBPN"
      },
      "source": [
        "+연산자는 extend()와 동일한 기능을 수행합니다"
      ]
    },
    {
      "cell_type": "code",
      "metadata": {
        "id": "MDwcCc3NJPVj"
      },
      "source": [
        "mylist = [1,2,3,4]"
      ],
      "execution_count": null,
      "outputs": []
    },
    {
      "cell_type": "markdown",
      "metadata": {
        "id": "0-dGFnVLJRwL"
      },
      "source": [
        "인덱스는 0번 부터 시작 합니다"
      ]
    },
    {
      "cell_type": "code",
      "metadata": {
        "colab": {
          "base_uri": "https://localhost:8080/"
        },
        "id": "RY0YSS6GJVEO",
        "outputId": "c951b1f2-50d0-4874-f67d-0177b100b057"
      },
      "source": [
        "mylist[0]"
      ],
      "execution_count": null,
      "outputs": [
        {
          "output_type": "execute_result",
          "data": {
            "text/plain": [
              "1"
            ]
          },
          "metadata": {
            "tags": []
          },
          "execution_count": 67
        }
      ]
    },
    {
      "cell_type": "code",
      "metadata": {
        "colab": {
          "base_uri": "https://localhost:8080/"
        },
        "id": "RTnrzJpfJWXd",
        "outputId": "b793c747-1ea1-4e46-d02f-3c08928ed7bc"
      },
      "source": [
        "mylist[3]"
      ],
      "execution_count": null,
      "outputs": [
        {
          "output_type": "execute_result",
          "data": {
            "text/plain": [
              "4"
            ]
          },
          "metadata": {
            "tags": []
          },
          "execution_count": 68
        }
      ]
    },
    {
      "cell_type": "markdown",
      "metadata": {
        "id": "QBicSshXJeD2"
      },
      "source": [
        "역순 인덱싱\n",
        "\n",
        "파이썬은 음수 인덱싱을 지원합니다"
      ]
    },
    {
      "cell_type": "code",
      "metadata": {
        "colab": {
          "base_uri": "https://localhost:8080/"
        },
        "id": "StEvGv08Jwea",
        "outputId": "214d4140-dc32-4422-faf1-970f63f2c494"
      },
      "source": [
        "mylist = [1, 2, 3 ,4]\n",
        "mylist[-1]"
      ],
      "execution_count": null,
      "outputs": [
        {
          "output_type": "execute_result",
          "data": {
            "text/plain": [
              "4"
            ]
          },
          "metadata": {
            "tags": []
          },
          "execution_count": 72
        }
      ]
    },
    {
      "cell_type": "code",
      "metadata": {
        "colab": {
          "base_uri": "https://localhost:8080/"
        },
        "id": "Eg3rWnO2J2ij",
        "outputId": "df0bf9e6-91ee-4a5a-9677-982c795875ab"
      },
      "source": [
        "mylist[-3]"
      ],
      "execution_count": null,
      "outputs": [
        {
          "output_type": "execute_result",
          "data": {
            "text/plain": [
              "2"
            ]
          },
          "metadata": {
            "tags": []
          },
          "execution_count": 73
        }
      ]
    },
    {
      "cell_type": "code",
      "metadata": {
        "colab": {
          "base_uri": "https://localhost:8080/",
          "height": 169
        },
        "id": "llyC0CS1J6wQ",
        "outputId": "0b1e4aa8-7bcf-4150-d651-be3688d500f1"
      },
      "source": [
        "mylist[-5]"
      ],
      "execution_count": null,
      "outputs": [
        {
          "output_type": "error",
          "ename": "IndexError",
          "evalue": "ignored",
          "traceback": [
            "\u001b[0;31m---------------------------------------------------------------------------\u001b[0m",
            "\u001b[0;31mIndexError\u001b[0m                                Traceback (most recent call last)",
            "\u001b[0;32m<ipython-input-74-7f152f66d2d3>\u001b[0m in \u001b[0;36m<module>\u001b[0;34m()\u001b[0m\n\u001b[0;32m----> 1\u001b[0;31m \u001b[0mmylist\u001b[0m\u001b[0;34m[\u001b[0m\u001b[0;34m-\u001b[0m\u001b[0;36m5\u001b[0m\u001b[0;34m]\u001b[0m\u001b[0;34m\u001b[0m\u001b[0;34m\u001b[0m\u001b[0m\n\u001b[0m",
            "\u001b[0;31mIndexError\u001b[0m: list index out of range"
          ]
        }
      ]
    },
    {
      "cell_type": "markdown",
      "metadata": {
        "id": "QDf3ynLGJ8l6"
      },
      "source": [
        "인덱스로 접근하여 값 바꾸기"
      ]
    },
    {
      "cell_type": "code",
      "metadata": {
        "colab": {
          "base_uri": "https://localhost:8080/"
        },
        "id": "IOdVhmfcJ-_c",
        "outputId": "dc502955-60f1-42d5-9cd3-57e14eff12c9"
      },
      "source": [
        "mylist = [1, 2, 3, 4,5 ]\n",
        "mylist"
      ],
      "execution_count": null,
      "outputs": [
        {
          "output_type": "execute_result",
          "data": {
            "text/plain": [
              "[1, 2, 3, 4, 5]"
            ]
          },
          "metadata": {
            "tags": []
          },
          "execution_count": 77
        }
      ]
    },
    {
      "cell_type": "code",
      "metadata": {
        "colab": {
          "base_uri": "https://localhost:8080/"
        },
        "id": "ZmRD4VSgKEGW",
        "outputId": "a564564f-5464-414b-b129-495ca6af2cb7"
      },
      "source": [
        "mylist[0]"
      ],
      "execution_count": null,
      "outputs": [
        {
          "output_type": "execute_result",
          "data": {
            "text/plain": [
              "1"
            ]
          },
          "metadata": {
            "tags": []
          },
          "execution_count": 78
        }
      ]
    },
    {
      "cell_type": "code",
      "metadata": {
        "colab": {
          "base_uri": "https://localhost:8080/"
        },
        "id": "I30YdUJSKHqj",
        "outputId": "6004632b-57aa-49d3-f3d6-0a684d1de816"
      },
      "source": [
        "mylist[0] = 100\n",
        "mylist"
      ],
      "execution_count": null,
      "outputs": [
        {
          "output_type": "execute_result",
          "data": {
            "text/plain": [
              "[100, 2, 3, 4, 5]"
            ]
          },
          "metadata": {
            "tags": []
          },
          "execution_count": 80
        }
      ]
    },
    {
      "cell_type": "code",
      "metadata": {
        "id": "PBsCAJ1DKJSF"
      },
      "source": [
        "mylist[-1] = 300"
      ],
      "execution_count": null,
      "outputs": []
    },
    {
      "cell_type": "code",
      "metadata": {
        "colab": {
          "base_uri": "https://localhost:8080/"
        },
        "id": "SHVxbE3bKZLF",
        "outputId": "0e666dfc-5fe0-4108-e9f6-8d731b0eef38"
      },
      "source": [
        "mylist"
      ],
      "execution_count": null,
      "outputs": [
        {
          "output_type": "execute_result",
          "data": {
            "text/plain": [
              "[100, 2, 3, 4, 300]"
            ]
          },
          "metadata": {
            "tags": []
          },
          "execution_count": 82
        }
      ]
    },
    {
      "cell_type": "markdown",
      "metadata": {
        "id": "B93NidwXKZsj"
      },
      "source": [
        "중첩된 리스트 인덱싱\n",
        "\n",
        "중첩된 리스트에 대한 리스트는 중첩 인덱싱으로 접근합니다. 값을 변경하는 것도 가능합니다"
      ]
    },
    {
      "cell_type": "code",
      "metadata": {
        "id": "SANt4O6oKgdo"
      },
      "source": [
        "mylist = [['가', '나', '다'], [4, 5, 6], 7, 8, 9]"
      ],
      "execution_count": null,
      "outputs": []
    },
    {
      "cell_type": "markdown",
      "metadata": {
        "id": "avSTwt22Kmq2"
      },
      "source": [
        "1번째 리스트 요소를 가져옵니다"
      ]
    },
    {
      "cell_type": "code",
      "metadata": {
        "colab": {
          "base_uri": "https://localhost:8080/"
        },
        "id": "532geO1QKp4P",
        "outputId": "0df3e3f6-8485-427a-ba4e-dab5b49775d6"
      },
      "source": [
        "mylist[1]"
      ],
      "execution_count": null,
      "outputs": [
        {
          "output_type": "execute_result",
          "data": {
            "text/plain": [
              "[4, 5, 6]"
            ]
          },
          "metadata": {
            "tags": []
          },
          "execution_count": 87
        }
      ]
    },
    {
      "cell_type": "markdown",
      "metadata": {
        "id": "7eIQA03EKq-1"
      },
      "source": [
        "1번째 리스트의 요소 중 1번째 요소를 자겨오기 위해서는 중첩 엔덱싱으로 접근됩니다"
      ]
    },
    {
      "cell_type": "code",
      "metadata": {
        "colab": {
          "base_uri": "https://localhost:8080/"
        },
        "id": "zHHlK1b3K0Hc",
        "outputId": "5cdad64a-ecd7-4707-8c6f-8a221a7e3a6f"
      },
      "source": [
        "mylist[0]"
      ],
      "execution_count": null,
      "outputs": [
        {
          "output_type": "execute_result",
          "data": {
            "text/plain": [
              "['가', '나', '다']"
            ]
          },
          "metadata": {
            "tags": []
          },
          "execution_count": 96
        }
      ]
    },
    {
      "cell_type": "code",
      "metadata": {
        "colab": {
          "base_uri": "https://localhost:8080/"
        },
        "id": "J_DhGBu9LL3a",
        "outputId": "ea3cdbc4-5fa4-462f-c288-a1ea2b5440e2"
      },
      "source": [
        "mylist[2]"
      ],
      "execution_count": null,
      "outputs": [
        {
          "output_type": "execute_result",
          "data": {
            "text/plain": [
              "7"
            ]
          },
          "metadata": {
            "tags": []
          },
          "execution_count": 98
        }
      ]
    },
    {
      "cell_type": "code",
      "metadata": {
        "colab": {
          "base_uri": "https://localhost:8080/"
        },
        "id": "KakOKfF1LSyb",
        "outputId": "94be357e-f81b-481e-c27e-210e037b5d4a"
      },
      "source": [
        "mylist[4]"
      ],
      "execution_count": null,
      "outputs": [
        {
          "output_type": "execute_result",
          "data": {
            "text/plain": [
              "9"
            ]
          },
          "metadata": {
            "tags": []
          },
          "execution_count": 100
        }
      ]
    },
    {
      "cell_type": "markdown",
      "metadata": {
        "id": "f80MZPB5LT_n"
      },
      "source": [
        "1번째 리스트의 요소 중 1번쨰 요소를 가져오기 위해서는 중첩 인덱싱으로 접근합니다"
      ]
    },
    {
      "cell_type": "code",
      "metadata": {
        "colab": {
          "base_uri": "https://localhost:8080/"
        },
        "id": "cC6Jyl4PLfmZ",
        "outputId": "4fe63184-e4ca-43c0-d2ea-cb132e63f3d2"
      },
      "source": [
        "mylist[1][1]"
      ],
      "execution_count": null,
      "outputs": [
        {
          "output_type": "execute_result",
          "data": {
            "text/plain": [
              "5"
            ]
          },
          "metadata": {
            "tags": []
          },
          "execution_count": 101
        }
      ]
    },
    {
      "cell_type": "code",
      "metadata": {
        "colab": {
          "base_uri": "https://localhost:8080/"
        },
        "id": "NAfXWUwHLg3C",
        "outputId": "dbfe5a6c-2e6f-4d03-b545-427b313971cb"
      },
      "source": [
        "mylist[1][1] = 99\n",
        "mylist"
      ],
      "execution_count": null,
      "outputs": [
        {
          "output_type": "execute_result",
          "data": {
            "text/plain": [
              "[['가', '나', '다'], [4, 99, 6], 7, 8, 9]"
            ]
          },
          "metadata": {
            "tags": []
          },
          "execution_count": 102
        }
      ]
    },
    {
      "cell_type": "markdown",
      "metadata": {
        "id": "--2frDJ3LlZY"
      },
      "source": [
        "슬라이싱(Slicing): 범위 추출\n",
        "- 슬라이싱의 활용: [start, stop, step]을 명시하여 부분을 추출할 수 있습니다"
      ]
    },
    {
      "cell_type": "code",
      "metadata": {
        "id": "F54LYSVfL0cZ"
      },
      "source": [
        "mylist = [100, 200, 300, 400, 500]"
      ],
      "execution_count": null,
      "outputs": []
    },
    {
      "cell_type": "markdown",
      "metadata": {
        "id": "4OeifMEoL4Ra"
      },
      "source": [
        "[:]을 활용하여 전체를 추출할 수 있습니다"
      ]
    },
    {
      "cell_type": "code",
      "metadata": {
        "colab": {
          "base_uri": "https://localhost:8080/"
        },
        "id": "lyh4nvnTL72G",
        "outputId": "a55d0363-c139-4678-f02d-15fefd820857"
      },
      "source": [
        "mylist[:]"
      ],
      "execution_count": null,
      "outputs": [
        {
          "output_type": "execute_result",
          "data": {
            "text/plain": [
              "[100, 200, 300, 400, 500]"
            ]
          },
          "metadata": {
            "tags": []
          },
          "execution_count": 105
        }
      ]
    },
    {
      "cell_type": "markdown",
      "metadata": {
        "id": "Ih6ZMjtUL8kd"
      },
      "source": [
        "[start:]는 시작 index부터 끝까지 추출합니다"
      ]
    },
    {
      "cell_type": "code",
      "metadata": {
        "colab": {
          "base_uri": "https://localhost:8080/"
        },
        "id": "LesUtcmIMPyE",
        "outputId": "6c33626a-c645-4d43-b9a3-725e7ba3bd32"
      },
      "source": [
        "mylist[2:]"
      ],
      "execution_count": null,
      "outputs": [
        {
          "output_type": "execute_result",
          "data": {
            "text/plain": [
              "[300, 400, 500]"
            ]
          },
          "metadata": {
            "tags": []
          },
          "execution_count": 107
        }
      ]
    },
    {
      "cell_type": "code",
      "metadata": {
        "colab": {
          "base_uri": "https://localhost:8080/"
        },
        "id": "tPbpept8MRIL",
        "outputId": "44ca0fc9-3e37-44e1-a75a-36f7d8b1135e"
      },
      "source": [
        " mylist[-3:]"
      ],
      "execution_count": null,
      "outputs": [
        {
          "output_type": "execute_result",
          "data": {
            "text/plain": [
              "[300, 400, 500]"
            ]
          },
          "metadata": {
            "tags": []
          },
          "execution_count": 109
        }
      ]
    },
    {
      "cell_type": "markdown",
      "metadata": {
        "id": "RFVds3GTMWRg"
      },
      "source": [
        "[:end]는 처음부터 end전까지 출력합니다"
      ]
    },
    {
      "cell_type": "code",
      "metadata": {
        "colab": {
          "base_uri": "https://localhost:8080/"
        },
        "id": "Q3wNN1aFMbqn",
        "outputId": "681a54f0-a868-46c9-a502-4e68e57d95a3"
      },
      "source": [
        "mylist[:3]"
      ],
      "execution_count": null,
      "outputs": [
        {
          "output_type": "execute_result",
          "data": {
            "text/plain": [
              "[100, 200, 300]"
            ]
          },
          "metadata": {
            "tags": []
          },
          "execution_count": 110
        }
      ]
    },
    {
      "cell_type": "code",
      "metadata": {
        "colab": {
          "base_uri": "https://localhost:8080/"
        },
        "id": "GbY-mzTWMVQe",
        "outputId": "75408db4-3895-4e6e-9684-86eb6f975a1d"
      },
      "source": [
        "mylist[1:3]"
      ],
      "execution_count": null,
      "outputs": [
        {
          "output_type": "execute_result",
          "data": {
            "text/plain": [
              "[200, 300]"
            ]
          },
          "metadata": {
            "tags": []
          },
          "execution_count": 111
        }
      ]
    },
    {
      "cell_type": "code",
      "metadata": {
        "colab": {
          "base_uri": "https://localhost:8080/"
        },
        "id": "MrKyqNywMg3g",
        "outputId": "34ea7967-5e57-40f2-cdac-ac09617ff195"
      },
      "source": [
        "mylist[-3:-1]"
      ],
      "execution_count": null,
      "outputs": [
        {
          "output_type": "execute_result",
          "data": {
            "text/plain": [
              "[300, 400]"
            ]
          },
          "metadata": {
            "tags": []
          },
          "execution_count": 112
        }
      ]
    },
    {
      "cell_type": "markdown",
      "metadata": {
        "id": "b8ZoJRbdMlAI"
      },
      "source": [
        "indexing에 steop 활용하기\n",
        "\n",
        "list[start:stop:step]\n",
        "- step은 몇 칸씩 건너 뛰는지 지정합니다"
      ]
    },
    {
      "cell_type": "code",
      "metadata": {
        "id": "qvcUEcziM3nD"
      },
      "source": [
        ""
      ],
      "execution_count": null,
      "outputs": []
    },
    {
      "cell_type": "code",
      "metadata": {
        "id": "XfWUMxcbMwiM"
      },
      "source": [
        "mylist = [100, 200, 300, 400, 500]"
      ],
      "execution_count": null,
      "outputs": []
    },
    {
      "cell_type": "markdown",
      "metadata": {
        "id": "sHaZCidyMyyo"
      },
      "source": [
        "2칸씩 건너 뛰기"
      ]
    },
    {
      "cell_type": "code",
      "metadata": {
        "colab": {
          "base_uri": "https://localhost:8080/"
        },
        "id": "NT7N4RuVM0L9",
        "outputId": "098dc2f5-1bea-46b0-d10b-5bfa55b9615f"
      },
      "source": [
        "mylist[::2]"
      ],
      "execution_count": null,
      "outputs": [
        {
          "output_type": "execute_result",
          "data": {
            "text/plain": [
              "[100, 300, 500]"
            ]
          },
          "metadata": {
            "tags": []
          },
          "execution_count": 114
        }
      ]
    },
    {
      "cell_type": "markdown",
      "metadata": {
        "id": "cYa6SIn7M1ns"
      },
      "source": [
        "역순 출력"
      ]
    },
    {
      "cell_type": "code",
      "metadata": {
        "colab": {
          "base_uri": "https://localhost:8080/"
        },
        "id": "bODPFdk_M4lh",
        "outputId": "b9b785b4-f776-415b-d978-3c8557f33f84"
      },
      "source": [
        "mylist[::-1]"
      ],
      "execution_count": null,
      "outputs": [
        {
          "output_type": "execute_result",
          "data": {
            "text/plain": [
              "[500, 400, 300, 200, 100]"
            ]
          },
          "metadata": {
            "tags": []
          },
          "execution_count": 115
        }
      ]
    },
    {
      "cell_type": "markdown",
      "metadata": {
        "id": "fF9ONxUfM6tB"
      },
      "source": [
        "역순 그리고 2칸씩 건너뛰기\n"
      ]
    },
    {
      "cell_type": "code",
      "metadata": {
        "colab": {
          "base_uri": "https://localhost:8080/"
        },
        "id": "M33qYS1GM9PQ",
        "outputId": "8dfe7074-9321-4ebc-f23f-6d58c508ad30"
      },
      "source": [
        "mylist[::-2]"
      ],
      "execution_count": null,
      "outputs": [
        {
          "output_type": "execute_result",
          "data": {
            "text/plain": [
              "[500, 300, 100]"
            ]
          },
          "metadata": {
            "tags": []
          },
          "execution_count": 116
        }
      ]
    },
    {
      "cell_type": "markdown",
      "metadata": {
        "id": "dCTV5DIYM-ia"
      },
      "source": [
        "list 덧셈: list 확장"
      ]
    },
    {
      "cell_type": "code",
      "metadata": {
        "colab": {
          "base_uri": "https://localhost:8080/"
        },
        "id": "-za1le4kNFX_",
        "outputId": "12701e3a-4e93-4be1-818f-c6740d0bca8d"
      },
      "source": [
        "a = [1,2,3,4]\n",
        "b = [5,6,7,8]\n",
        "a+b"
      ],
      "execution_count": null,
      "outputs": [
        {
          "output_type": "execute_result",
          "data": {
            "text/plain": [
              "[1, 2, 3, 4, 5, 6, 7, 8]"
            ]
          },
          "metadata": {
            "tags": []
          },
          "execution_count": 117
        }
      ]
    },
    {
      "cell_type": "code",
      "metadata": {
        "colab": {
          "base_uri": "https://localhost:8080/"
        },
        "id": "HTxmX8pyNJzF",
        "outputId": "d60111aa-722e-45c7-c58f-70ef4a95f75d"
      },
      "source": [
        "a = ['a', 'b', 'c']\n",
        "b = ['d', 'e', 'f']\n",
        "a+b"
      ],
      "execution_count": null,
      "outputs": [
        {
          "output_type": "execute_result",
          "data": {
            "text/plain": [
              "['a', 'b', 'c', 'd', 'e', 'f']"
            ]
          },
          "metadata": {
            "tags": []
          },
          "execution_count": 118
        }
      ]
    },
    {
      "cell_type": "markdown",
      "metadata": {
        "id": "V6gabKs4NRv2"
      },
      "source": [
        "list 곱셈 : list 반복"
      ]
    },
    {
      "cell_type": "code",
      "metadata": {
        "colab": {
          "base_uri": "https://localhost:8080/"
        },
        "id": "j6zjShSzNUvf",
        "outputId": "b172721e-18d0-4963-e4fb-1bbd8792a502"
      },
      "source": [
        "a = ['a', 'b', 'c']\n",
        "b = [1, 2, 3, 4]\n",
        "a*2"
      ],
      "execution_count": null,
      "outputs": [
        {
          "output_type": "execute_result",
          "data": {
            "text/plain": [
              "['a', 'b', 'c', 'a', 'b', 'c']"
            ]
          },
          "metadata": {
            "tags": []
          },
          "execution_count": 119
        }
      ]
    },
    {
      "cell_type": "code",
      "metadata": {
        "colab": {
          "base_uri": "https://localhost:8080/"
        },
        "id": "f1MeDtGONaPF",
        "outputId": "1447962c-268c-4862-a42d-81b4eb828d82"
      },
      "source": [
        "b*3"
      ],
      "execution_count": null,
      "outputs": [
        {
          "output_type": "execute_result",
          "data": {
            "text/plain": [
              "[1, 2, 3, 4, 1, 2, 3, 4, 1, 2, 3, 4]"
            ]
          },
          "metadata": {
            "tags": []
          },
          "execution_count": 120
        }
      ]
    }
  ]
}