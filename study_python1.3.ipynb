{
  "nbformat": 4,
  "nbformat_minor": 0,
  "metadata": {
    "colab": {
      "name": "Untitled0.ipynb",
      "provenance": [],
      "authorship_tag": "ABX9TyNt1b72+sIlqdAFUsyU8WlW",
      "include_colab_link": true
    },
    "kernelspec": {
      "name": "python3",
      "display_name": "Python 3"
    },
    "language_info": {
      "name": "python"
    }
  },
  "cells": [
    {
      "cell_type": "markdown",
      "metadata": {
        "id": "view-in-github",
        "colab_type": "text"
      },
      "source": [
        "<a href=\"https://colab.research.google.com/github/park0315/summer_python_stury/blob/main/study_python1.3.ipynb\" target=\"_parent\"><img src=\"https://colab.research.google.com/assets/colab-badge.svg\" alt=\"Open In Colab\"/></a>"
      ]
    },
    {
      "cell_type": "markdown",
      "metadata": {
        "id": "bilWKrsi627V"
      },
      "source": [
        "#improt this"
      ]
    },
    {
      "cell_type": "markdown",
      "metadata": {
        "id": "bc1N9L1v67V-"
      },
      "source": [
        "Beautiful is better than ugly\n",
        "Explicit is better than implicit\n",
        "simple is better than complex\n",
        "Complex is better than complicated\n",
        "Flat is better than nested\n",
        "Sparse is better than dense\n",
        "Readability counts\n",
        "Special cases aren't special enough to break the rules\n",
        "Although"
      ]
    },
    {
      "cell_type": "markdown",
      "metadata": {
        "id": "MJAEUyQV7c25"
      },
      "source": [
        "#print\n",
        "- 첫 단원에서는 기본 rpint()의 출력 만 배웁니다\n",
        "- 향후 실습 진행을 위한 정도만 배우고, 나중에 문자열 포맷팅에서 더 자세히 다룹니다"
      ]
    },
    {
      "cell_type": "code",
      "metadata": {
        "colab": {
          "base_uri": "https://localhost:8080/"
        },
        "id": "QbUUGY377qSk",
        "outputId": "ce212a98-8546-4915-b1e1-da775996ef61"
      },
      "source": [
        "print('오늘 파이썬 배우기 좋은 날이네!')"
      ],
      "execution_count": 1,
      "outputs": [
        {
          "output_type": "stream",
          "text": [
            "오늘 파이썬 배우기 좋은 날이네!\n"
          ],
          "name": "stdout"
        }
      ]
    },
    {
      "cell_type": "code",
      "metadata": {
        "colab": {
          "base_uri": "https://localhost:8080/"
        },
        "id": "HV8ZsX9F7tnH",
        "outputId": "4166a006-8971-43d8-fb21-5dd1098fbc65"
      },
      "source": [
        "print(\"오늘은\", \"일요일\")"
      ],
      "execution_count": 2,
      "outputs": [
        {
          "output_type": "stream",
          "text": [
            "오늘은 일요일\n"
          ],
          "name": "stdout"
        }
      ]
    },
    {
      "cell_type": "code",
      "metadata": {
        "colab": {
          "base_uri": "https://localhost:8080/"
        },
        "id": "f34h4Jvk7w-K",
        "outputId": "c252c80d-b985-4ec2-8cd2-8405073aa7c2"
      },
      "source": [
        "print(1, 2, 3, 4)"
      ],
      "execution_count": 3,
      "outputs": [
        {
          "output_type": "stream",
          "text": [
            "1 2 3 4\n"
          ],
          "name": "stdout"
        }
      ]
    },
    {
      "cell_type": "markdown",
      "metadata": {
        "id": "H5ui1-Bp7yue"
      },
      "source": [
        "Jupyter Notebook 셀에서 맨 끝에 위치한 변수, 문자열, 숫자등은 자동으로 출력합니다.\n",
        "\n"
      ]
    },
    {
      "cell_type": "markdown",
      "metadata": {
        "id": "MTmgQsHQ8IhU"
      },
      "source": [
        "#변수 (Variable)\n",
        "\n",
        "deepLearning"
      ]
    },
    {
      "cell_type": "markdown",
      "metadata": {
        "id": "dlAcIgee8NhF"
      },
      "source": [
        "변수는 **데이터를 담는 그릇**이라고 생각하시면 됩니다\n"
      ]
    },
    {
      "cell_type": "markdown",
      "metadata": {
        "id": "6czhlc7e8U-6"
      },
      "source": [
        "##변수의 이름 규칙\n",
        "\n",
        "다음의 **문자만 사용**할 수 있습니다\n",
        "\n",
        "- 소문자\n",
        "- 대문자\n",
        "- 숫자\n",
        "- 한글도 가능\n",
        "- 특수 기호는 언더바 만 허용\n",
        "\n",
        "다음의 **규칙**을 가집니다\n",
        "\n",
        "- 대소문자를 구분합니다\n",
        "- 숫자는 맨 처음에 올 수 없습니다\n",
        "- 예약어는  사용할 수 없습니다. (def, if, del, import, return 등등)"
      ]
    },
    {
      "cell_type": "markdown",
      "metadata": {
        "id": "uPUvQmuM89vv"
      },
      "source": [
        "case 1 알파벳(가능)/ 대소문자 모두 가능/ 심지어 한글도 가능하나 사용하는 것은 비추:"
      ]
    },
    {
      "cell_type": "markdown",
      "metadata": {
        "id": "2Jjm3gmY8pvi"
      },
      "source": [
        "a = 1"
      ]
    },
    {
      "cell_type": "code",
      "metadata": {
        "id": "pCT0ZBSf9HIi"
      },
      "source": [
        "A = 1"
      ],
      "execution_count": 4,
      "outputs": []
    },
    {
      "cell_type": "code",
      "metadata": {
        "id": "AoMkJ8wU9Jmi"
      },
      "source": [
        "변수 = 1"
      ],
      "execution_count": 5,
      "outputs": []
    },
    {
      "cell_type": "code",
      "metadata": {
        "colab": {
          "base_uri": "https://localhost:8080/"
        },
        "id": "scteHHXy9Kgg",
        "outputId": "ccd1666f-698b-441f-ffb5-4f2b2a5bcbc4"
      },
      "source": [
        "변수"
      ],
      "execution_count": 6,
      "outputs": [
        {
          "output_type": "execute_result",
          "data": {
            "text/plain": [
              "1"
            ]
          },
          "metadata": {
            "tags": []
          },
          "execution_count": 6
        }
      ]
    },
    {
      "cell_type": "markdown",
      "metadata": {
        "id": "HAXLXAHs9M9K"
      },
      "source": [
        "CAse 2. 알파벳 + 숫자 (가능)"
      ]
    },
    {
      "cell_type": "markdown",
      "metadata": {
        "id": "0I5bxhu59SWo"
      },
      "source": [
        "Case 3. 알파벳 + 언더바(_) (가능)"
      ]
    },
    {
      "cell_type": "markdown",
      "metadata": {
        "id": "VURypmKt9WQ8"
      },
      "source": [
        "Case 5, 숫자 + 알파벳(불가능)\n",
        "step overfloer ? "
      ]
    },
    {
      "cell_type": "markdown",
      "metadata": {
        "id": "Ydah1xj29eX1"
      },
      "source": [
        "Case 6, "
      ]
    },
    {
      "cell_type": "markdown",
      "metadata": {
        "id": "_YzWBtsN91ly"
      },
      "source": [
        "#데이터 타입\n",
        "자료 형태(자료형), 자료 구조라고도 불러웁니다."
      ]
    },
    {
      "cell_type": "markdown",
      "metadata": {
        "id": "4RGALcly-IrU"
      },
      "source": [
        "##주요 데이터 타입\n",
        "1. int (정수):integer(정수)의 약자이며, 정수를 나타내는 자료형입니다.\n",
        "2. float ( 실수) : floationg point 의 약자이며, 소수점이 있는 숫자를 나타내는 자요형입니다.\n",
        "3. str(문자열): 문자를 나타내는 자료형입니다. 작은 따옴표 혹은 큰 따옴표로 감싸져 있습니다.\n",
        "4. boal (참/거짓) : 참 또는 거짓을 나타내는 자료형입니다. True, Falase에서 T와 F는 반드시 대문자로 표기해야합니다."
      ]
    },
    {
      "cell_type": "markdown",
      "metadata": {
        "id": "zwORk-OF-mGp"
      },
      "source": [
        "###type()\n",
        "true 함수를 활용하여 데이터의 타입을 알아 볼 수 있습니다."
      ]
    },
    {
      "cell_type": "code",
      "metadata": {
        "colab": {
          "base_uri": "https://localhost:8080/"
        },
        "id": "6MuhHwk5_A01",
        "outputId": "b8b1cada-abba-4940-ec56-021bdcdcf384"
      },
      "source": [
        "print(type(1))"
      ],
      "execution_count": 11,
      "outputs": [
        {
          "output_type": "stream",
          "text": [
            "<class 'int'>\n"
          ],
          "name": "stdout"
        }
      ]
    },
    {
      "cell_type": "code",
      "metadata": {
        "colab": {
          "base_uri": "https://localhost:8080/"
        },
        "id": "SxKkrPhK_F1C",
        "outputId": "1bfbd11d-d594-41ff-ca13-a20afd574aaf"
      },
      "source": [
        "type(3.14)"
      ],
      "execution_count": 12,
      "outputs": [
        {
          "output_type": "execute_result",
          "data": {
            "text/plain": [
              "float"
            ]
          },
          "metadata": {
            "tags": []
          },
          "execution_count": 12
        }
      ]
    },
    {
      "cell_type": "code",
      "metadata": {
        "colab": {
          "base_uri": "https://localhost:8080/"
        },
        "id": "WAmlipJ5_G6s",
        "outputId": "a1318a86-b32f-4499-d00e-31610ee7e518"
      },
      "source": [
        "type(\"안녕\")"
      ],
      "execution_count": 13,
      "outputs": [
        {
          "output_type": "execute_result",
          "data": {
            "text/plain": [
              "str"
            ]
          },
          "metadata": {
            "tags": []
          },
          "execution_count": 13
        }
      ]
    },
    {
      "cell_type": "code",
      "metadata": {
        "colab": {
          "base_uri": "https://localhost:8080/"
        },
        "id": "8s_B1B56_KF_",
        "outputId": "b37c7dde-cf40-414f-e8d3-68d7344cafdf"
      },
      "source": [
        "type(True)"
      ],
      "execution_count": 14,
      "outputs": [
        {
          "output_type": "execute_result",
          "data": {
            "text/plain": [
              "bool"
            ]
          },
          "metadata": {
            "tags": []
          },
          "execution_count": 14
        }
      ]
    },
    {
      "cell_type": "markdown",
      "metadata": {
        "id": "Ay3QI_v1_LHR"
      },
      "source": [
        "int (정수)\n",
        "\n",
        "Integer(정수)의 약자이며, 정수를 나타내는 자료형입니다."
      ]
    },
    {
      "cell_type": "markdown",
      "metadata": {
        "id": "Ma0aoN5B_XA2"
      },
      "source": [
        "float(실수)"
      ]
    },
    {
      "cell_type": "markdown",
      "metadata": {
        "id": "CUudD-u9_aB8"
      },
      "source": [
        "Str(문자열)"
      ]
    },
    {
      "cell_type": "markdown",
      "metadata": {
        "id": "8mqIC8C-_eNa"
      },
      "source": [
        "bool(참/거짓)"
      ]
    },
    {
      "cell_type": "markdown",
      "metadata": {
        "id": "CwK730bP_60E"
      },
      "source": [
        "타입변화\n",
        "\n",
        "int 를 float로 변화하는경우"
      ]
    },
    {
      "cell_type": "code",
      "metadata": {
        "id": "dDHO2FmFAbxH"
      },
      "source": [
        "a=1"
      ],
      "execution_count": 19,
      "outputs": []
    },
    {
      "cell_type": "code",
      "metadata": {
        "colab": {
          "base_uri": "https://localhost:8080/"
        },
        "id": "MTV9cTATAdxj",
        "outputId": "c96696cd-d6b0-4119-be74-17f801c5b1c3"
      },
      "source": [
        "type(a)"
      ],
      "execution_count": 20,
      "outputs": [
        {
          "output_type": "execute_result",
          "data": {
            "text/plain": [
              "int"
            ]
          },
          "metadata": {
            "tags": []
          },
          "execution_count": 20
        }
      ]
    },
    {
      "cell_type": "code",
      "metadata": {
        "colab": {
          "base_uri": "https://localhost:8080/"
        },
        "id": "eEdIwgsnAfAR",
        "outputId": "004990b7-2dea-47f7-bce8-1d73bca1ef8a"
      },
      "source": [
        "float(a)"
      ],
      "execution_count": 21,
      "outputs": [
        {
          "output_type": "execute_result",
          "data": {
            "text/plain": [
              "1.0"
            ]
          },
          "metadata": {
            "tags": []
          },
          "execution_count": 21
        }
      ]
    },
    {
      "cell_type": "markdown",
      "metadata": {
        "id": "DJDgUZ-YAge7"
      },
      "source": [
        "float를 int로 변화한 경우\n",
        "- float를 int로 변환시 반올림이 아닌 값이 버림되어 집니다\n"
      ]
    },
    {
      "cell_type": "code",
      "metadata": {
        "id": "mejyVKPsAlww"
      },
      "source": [
        "b=3.00\n"
      ],
      "execution_count": 22,
      "outputs": []
    },
    {
      "cell_type": "code",
      "metadata": {
        "colab": {
          "base_uri": "https://localhost:8080/"
        },
        "id": "-WUU2ipxAmvD",
        "outputId": "b222a004-2c0a-48d3-9f12-6f09d783181c"
      },
      "source": [
        "int(b)"
      ],
      "execution_count": 23,
      "outputs": [
        {
          "output_type": "execute_result",
          "data": {
            "text/plain": [
              "3"
            ]
          },
          "metadata": {
            "tags": []
          },
          "execution_count": 23
        }
      ]
    },
    {
      "cell_type": "markdown",
      "metadata": {
        "id": "wTf8QDeWAoJf"
      },
      "source": [
        "bool을 int로 변화한 경우"
      ]
    },
    {
      "cell_type": "code",
      "metadata": {
        "id": "N4uaYwnIAqy-"
      },
      "source": [
        "c= True"
      ],
      "execution_count": 24,
      "outputs": []
    },
    {
      "cell_type": "code",
      "metadata": {
        "colab": {
          "base_uri": "https://localhost:8080/"
        },
        "id": "XBMd_GjBAsDj",
        "outputId": "3e16223e-e0f0-4c8f-85ed-19b4722aeaa7"
      },
      "source": [
        "int(c)"
      ],
      "execution_count": 25,
      "outputs": [
        {
          "output_type": "execute_result",
          "data": {
            "text/plain": [
              "1"
            ]
          },
          "metadata": {
            "tags": []
          },
          "execution_count": 25
        }
      ]
    },
    {
      "cell_type": "code",
      "metadata": {
        "id": "HzHsyLw1As8b"
      },
      "source": [
        "d= False"
      ],
      "execution_count": 26,
      "outputs": []
    },
    {
      "cell_type": "code",
      "metadata": {
        "colab": {
          "base_uri": "https://localhost:8080/"
        },
        "id": "2DlrY7WXAuWR",
        "outputId": "efeb03df-68c6-464b-8e6e-5f3f45f52786"
      },
      "source": [
        "int(d)"
      ],
      "execution_count": 27,
      "outputs": [
        {
          "output_type": "execute_result",
          "data": {
            "text/plain": [
              "0"
            ]
          },
          "metadata": {
            "tags": []
          },
          "execution_count": 27
        }
      ]
    },
    {
      "cell_type": "markdown",
      "metadata": {
        "id": "A3ZPagB3Au-m"
      },
      "source": [
        "bool을 float로 변환한 경우\n"
      ]
    },
    {
      "cell_type": "code",
      "metadata": {
        "colab": {
          "base_uri": "https://localhost:8080/"
        },
        "id": "NC_3A87yAx4h",
        "outputId": "3e6a45cd-b6a7-43d3-d3f4-b6d290711c8a"
      },
      "source": [
        "float(True)"
      ],
      "execution_count": 30,
      "outputs": [
        {
          "output_type": "execute_result",
          "data": {
            "text/plain": [
              "1.0"
            ]
          },
          "metadata": {
            "tags": []
          },
          "execution_count": 30
        }
      ]
    },
    {
      "cell_type": "markdown",
      "metadata": {
        "id": "bC0H9pAbA1Au"
      },
      "source": [
        "파이썬에서 0이 아닌 값은 모두 True로 간주한다"
      ]
    },
    {
      "cell_type": "code",
      "metadata": {
        "colab": {
          "base_uri": "https://localhost:8080/"
        },
        "id": "N3htQbgnA5pf",
        "outputId": "78aaab27-0b2c-44f6-82ed-5918b092250c"
      },
      "source": [
        "bool(10)"
      ],
      "execution_count": 32,
      "outputs": [
        {
          "output_type": "execute_result",
          "data": {
            "text/plain": [
              "True"
            ]
          },
          "metadata": {
            "tags": []
          },
          "execution_count": 32
        }
      ]
    },
    {
      "cell_type": "code",
      "metadata": {
        "colab": {
          "base_uri": "https://localhost:8080/"
        },
        "id": "uLJ_L6kMA7CK",
        "outputId": "d54845fd-e142-4e68-830d-6e35e856e83c"
      },
      "source": [
        "bool(-10)"
      ],
      "execution_count": 33,
      "outputs": [
        {
          "output_type": "execute_result",
          "data": {
            "text/plain": [
              "True"
            ]
          },
          "metadata": {
            "tags": []
          },
          "execution_count": 33
        }
      ]
    },
    {
      "cell_type": "code",
      "metadata": {
        "colab": {
          "base_uri": "https://localhost:8080/"
        },
        "id": "oP06tCBLA73E",
        "outputId": "daae53e6-85ce-4fff-976c-eee61a3606dc"
      },
      "source": [
        "bool(0)"
      ],
      "execution_count": 34,
      "outputs": [
        {
          "output_type": "execute_result",
          "data": {
            "text/plain": [
              "False"
            ]
          },
          "metadata": {
            "tags": []
          },
          "execution_count": 34
        }
      ]
    },
    {
      "cell_type": "code",
      "metadata": {
        "colab": {
          "base_uri": "https://localhost:8080/"
        },
        "id": "OuGoRyEpA9E7",
        "outputId": "db9a5515-c808-4f77-f6c2-9f7f14cf8541"
      },
      "source": [
        "bool(3.13)"
      ],
      "execution_count": 35,
      "outputs": [
        {
          "output_type": "execute_result",
          "data": {
            "text/plain": [
              "True"
            ]
          },
          "metadata": {
            "tags": []
          },
          "execution_count": 35
        }
      ]
    }
  ]
}